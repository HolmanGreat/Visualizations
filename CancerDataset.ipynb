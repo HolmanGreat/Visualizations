#Importing libraries for visualization
import numpy as np
import pandas as pd
import matplotlib.pyplot as plt
import seaborn as sns

#Loading dataset
data = pd.read_csv('/content/Breast_Cancer.csv')
df = data.copy()
df

#Calculating age difference
max_age = df['Age'].max()  #oldest age
min_age = df['Age'].min()  #youngest age
max_age - min_age  #age difference

#Visulizing the age distribution
plt.figure(figsize = (12,9))
sns.distplot(df['Age'], kde = True, bins = 6, color = 'purple')
plt.title('Age Distribution Of Women With Breast Cancer')
plt.axvline(df['Age'].mean(),
ls = '--',
color = 'blue')
plt.show()
